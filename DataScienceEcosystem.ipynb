{
 "cells": [
  {
   "cell_type": "markdown",
   "id": "28b84c2a-b590-4305-81c2-b19fd22526b7",
   "metadata": {},
   "source": [
    "# Data Science Tools and Ecosystem"
   ]
  },
  {
   "attachments": {},
   "cell_type": "markdown",
   "id": "9c61e011-ef73-4c4e-9f07-b37cda0d5ef2",
   "metadata": {},
   "source": [
    "In this notebook, Data Science Tools and Ecosystem are summarized."
   ]
  },
  {
   "attachments": {},
   "cell_type": "markdown",
   "id": "3a653eb8-4f3d-4b47-a472-0f6cd51abfa4",
   "metadata": {},
   "source": [
    "__Objectives:__\n",
    "* List popular languages of Data Science\n",
    "* List commonly used libraries used by Data Scientists\n",
    "* List of some open source Data Science Tools\n",
    "* Perform simple arthimetic operations in Python"
   ]
  },
  {
   "cell_type": "markdown",
   "id": "95560886-e9b0-4abe-be5d-8799bc42d3e1",
   "metadata": {},
   "source": [
    "Some of the popular languages that Data Scientists use are:\n",
    "1. R\n",
    "2. C++\n",
    "3. Java\n",
    "4. Python"
   ]
  },
  {
   "cell_type": "markdown",
   "id": "4ec4909f-bdc2-4db6-a594-26c575d46d26",
   "metadata": {},
   "source": [
    "Some of the commonly used libraries used by Data Scientists include:\n",
    "\n",
    "1. NLTK\n",
    "2. NumPy\n",
    "3. Pandas\n",
    "4. Keras\n",
    "5. TensorFlow"
   ]
  },
  {
   "cell_type": "markdown",
   "id": "9f8fd5a5-2737-473b-ad7d-45b82c977efc",
   "metadata": {},
   "source": [
    "| Data Science Tools |\n",
    "|----|\n",
    "|RStudio|\n",
    "|Jupyter Lab|\n",
    "|IBM Watson Studio|"
   ]
  },
  {
   "cell_type": "markdown",
   "id": "62c249a9-b26b-42c6-af49-9d07fd2b27b8",
   "metadata": {},
   "source": [
    "### Below are a few examples of evaluating arithmetic expressions in Python"
   ]
  },
  {
   "cell_type": "code",
   "execution_count": 8,
   "id": "d6066e28-2b8f-471d-abe9-99435eeb90b7",
   "metadata": {},
   "outputs": [
    {
     "data": {
      "text/plain": [
       "17"
      ]
     },
     "execution_count": 8,
     "metadata": {},
     "output_type": "execute_result"
    }
   ],
   "source": [
    "# This a simple arithmetic expression to mutiply then add integers\n",
    "(3*4)+5"
   ]
  },
  {
   "cell_type": "code",
   "execution_count": 10,
   "id": "a5fc7a44-2fcf-4e65-87ff-8f2b9ba4b856",
   "metadata": {},
   "outputs": [
    {
     "data": {
      "text/plain": [
       "3.3333333333333335"
      ]
     },
     "execution_count": 10,
     "metadata": {},
     "output_type": "execute_result"
    }
   ],
   "source": [
    "# This will convert 200 minutes to hours by diving by 60\n",
    "200/60"
   ]
  },
  {
   "cell_type": "markdown",
   "id": "df939e5f-1467-4e39-bbd9-bf4a6edbcdf4",
   "metadata": {},
   "source": [
    "## Author\n",
    "Visali Devi Nerla"
   ]
  }
 ],
 "metadata": {
  "kernelspec": {
   "display_name": "Python [conda env:base] *",
   "language": "python",
   "name": "conda-base-py"
  },
  "language_info": {
   "codemirror_mode": {
    "name": "ipython",
    "version": 3
   },
   "file_extension": ".py",
   "mimetype": "text/x-python",
   "name": "python",
   "nbconvert_exporter": "python",
   "pygments_lexer": "ipython3",
   "version": "3.12.7"
  }
 },
 "nbformat": 4,
 "nbformat_minor": 5
}
