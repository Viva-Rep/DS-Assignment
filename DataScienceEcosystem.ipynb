{
 "cells": [
  {
   "cell_type": "markdown",
   "id": "4b36a92c-6980-4935-b478-016446376e4d",
   "metadata": {},
   "source": [
    "# Data Science Tools and Ecosystem"
   ]
  },
  {
   "cell_type": "markdown",
   "id": "b4bc246a-0e77-4b2f-ab7f-ef2dbec07b3f",
   "metadata": {},
   "source": [
    "In this notebook, Data Science Tools and Ecosystem are summarized."
   ]
  },
  {
   "cell_type": "markdown",
   "id": "9639fa54-b32d-4020-8a0a-913f2309dee9",
   "metadata": {},
   "source": [
    "__Objectives:__\n",
    "* List of popular languages used by Data Scientists\n",
    "* List of commonly used libraries used by Data Scientists\n",
    "* List of open source Data Science tools\n",
    "* Perform simple arithmetic oprations in Python"
   ]
  },
  {
   "cell_type": "markdown",
   "id": "ccd6739a-281c-4153-afa9-ee9face7c1b1",
   "metadata": {},
   "source": [
    "Some of the popular languages that Data Scientists use are:\n",
    "1. R\n",
    "2. C++\n",
    "3. Java\n",
    "4. Python"
   ]
  },
  {
   "cell_type": "markdown",
   "id": "f8bf22a3-11eb-4d33-a27d-f14178187710",
   "metadata": {},
   "source": [
    "Some of the commonly used libraries used by Data Scientists include:\n",
    "1. NLTK\n",
    "2. NumPy\n",
    "3. Keras\n",
    "4. Pandas\n",
    "5. TensrFow"
   ]
  },
  {
   "cell_type": "markdown",
   "id": "a93d6c30-d864-49f9-b952-89378139ed78",
   "metadata": {},
   "source": [
    "|Data Science Tools|\n",
    "|----|\n",
    "|RStudio|\n",
    "|Jupyter Lab|\n",
    "|IBM Watson Studio|"
   ]
  },
  {
   "cell_type": "markdown",
   "id": "254c7228-29a6-46ac-adc8-9c0815f60a5d",
   "metadata": {},
   "source": [
    "### Below are a few examples of evaluating arithmetic expressions in Python"
   ]
  },
  {
   "cell_type": "code",
   "execution_count": 1,
   "id": "57e397cd-7de0-47ee-b948-35df5563bcd5",
   "metadata": {},
   "outputs": [
    {
     "data": {
      "text/plain": [
       "17"
      ]
     },
     "execution_count": 1,
     "metadata": {},
     "output_type": "execute_result"
    }
   ],
   "source": [
    "# This is simple arithmetic expression to multiply then add integers \n",
    "(3*4)+5"
   ]
  },
  {
   "cell_type": "code",
   "execution_count": 2,
   "id": "8e10a1b7-3a22-4412-a4cb-3c55d6b0f783",
   "metadata": {},
   "outputs": [
    {
     "data": {
      "text/plain": [
       "3.3333333333333335"
      ]
     },
     "execution_count": 2,
     "metadata": {},
     "output_type": "execute_result"
    }
   ],
   "source": [
    "# This will convert 200 minutes to hours by diving by 60\n",
    "200/60"
   ]
  },
  {
   "cell_type": "markdown",
   "id": "c64304e2-e3e7-4383-93ee-9005db6a3b3c",
   "metadata": {},
   "source": [
    "## Author\n",
    "Visali Devi Nerla"
   ]
  }
 ],
 "metadata": {
  "kernelspec": {
   "display_name": "Python 3 (ipykernel)",
   "language": "python",
   "name": "python3"
  },
  "language_info": {
   "codemirror_mode": {
    "name": "ipython",
    "version": 3
   },
   "file_extension": ".py",
   "mimetype": "text/x-python",
   "name": "python",
   "nbconvert_exporter": "python",
   "pygments_lexer": "ipython3",
   "version": "3.12.8"
  }
 },
 "nbformat": 4,
 "nbformat_minor": 5
}
